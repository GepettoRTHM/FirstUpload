{
 "cells": [
  {
   "cell_type": "markdown",
   "id": "1eedb72d-85a0-4675-bc91-4afbce6e4555",
   "metadata": {
    "tags": []
   },
   "source": [
    "# Data Science Tools and Ecosystem"
   ]
  },
  {
   "cell_type": "markdown",
   "id": "c16fe19d-ffe6-4087-bf9d-37d583f89823",
   "metadata": {},
   "source": [
    "## In this notebook, Data Science Tools and Ecosystem are summarized."
   ]
  },
  {
   "cell_type": "markdown",
   "id": "c0ac059d-44a4-4d48-a514-b01a6b5e4c18",
   "metadata": {},
   "source": [
    "__Objectives:__\n",
    "\n",
    "* List the popular languages in Data Science\n",
    "* Create a table of great open source Data Science tools\n",
    "* Annotate and create functions in code blocks"
   ]
  },
  {
   "cell_type": "markdown",
   "id": "b58b8eed-efa7-4c68-a3c1-af59e21c0015",
   "metadata": {},
   "source": [
    "Some of the popular languages that Data Scientists use are:"
   ]
  },
  {
   "cell_type": "markdown",
   "id": "6620ccb6-2fbb-4795-99e1-3ee12f394c3e",
   "metadata": {
    "tags": []
   },
   "source": [
    "1. Python\n",
    "2. R\n",
    "3. Java\n",
    "4. C\n",
    "5. C++"
   ]
  },
  {
   "cell_type": "markdown",
   "id": "3b2050ff-d192-453d-95b8-0f40f26fb1e2",
   "metadata": {},
   "source": [
    "Some of the commonly used libraries used by Data Scientists include:\n"
   ]
  },
  {
   "cell_type": "markdown",
   "id": "02e926a8-a0ea-4627-ac93-e9e5857f1372",
   "metadata": {
    "tags": []
   },
   "source": [
    "1. Madplotlib\n",
    "2. Pandas\n",
    "3. NumPy\n",
    "4. TensorFlow"
   ]
  },
  {
   "cell_type": "markdown",
   "id": "228fc48c-5131-4ccb-8069-eb4c3c9af273",
   "metadata": {
    "tags": []
   },
   "source": [
    "|Data Science Tools|\n",
    "--------------------\n",
    "|Estuary Flow|\n",
    "|Jupyter Lab|\n",
    "|Vs Code|\n",
    "|Airbyte|\n",
    "|Apache Spark|\n",
    "|Kafka|\n",
    "|Apache Streaming|"
   ]
  },
  {
   "cell_type": "markdown",
   "id": "34ca356f-a2f0-49e0-bd45-092a8f1e3232",
   "metadata": {},
   "source": [
    "### Below are a few examples of evaluating arithmetic expressions in Python."
   ]
  },
  {
   "cell_type": "code",
   "execution_count": 32,
   "id": "1bdc179d-ed00-4116-8e53-8fc4bb174912",
   "metadata": {
    "tags": []
   },
   "outputs": [
    {
     "data": {
      "text/plain": [
       "17"
      ]
     },
     "execution_count": 32,
     "metadata": {},
     "output_type": "execute_result"
    }
   ],
   "source": [
    "#This a simple arithmetic expression to mutiply then add integers)\n",
    "(3*4)+5"
   ]
  },
  {
   "cell_type": "code",
   "execution_count": 34,
   "id": "6caa98a0-fa84-4e5f-9a58-ed22d40c672f",
   "metadata": {
    "tags": []
   },
   "outputs": [
    {
     "data": {
      "text/plain": [
       "3.3333333333333335"
      ]
     },
     "execution_count": 34,
     "metadata": {},
     "output_type": "execute_result"
    }
   ],
   "source": [
    "#This will convert 200 minutes to hours by diving by 60\n",
    "(200/60)"
   ]
  },
  {
   "cell_type": "markdown",
   "id": "9f42d762-49e2-413b-a2de-d7c380952125",
   "metadata": {},
   "source": [
    "## Author"
   ]
  },
  {
   "cell_type": "markdown",
   "id": "311c29f2-875f-4a7c-be18-0b843073f4ce",
   "metadata": {
    "tags": []
   },
   "source": [
    "Barry Clay II"
   ]
  }
 ],
 "metadata": {
  "kernelspec": {
   "display_name": "Python 3 (ipykernel)",
   "language": "python",
   "name": "python3"
  },
  "language_info": {
   "codemirror_mode": {
    "name": "ipython",
    "version": 3
   },
   "file_extension": ".py",
   "mimetype": "text/x-python",
   "name": "python",
   "nbconvert_exporter": "python",
   "pygments_lexer": "ipython3",
   "version": "3.11.5"
  }
 },
 "nbformat": 4,
 "nbformat_minor": 5
}
